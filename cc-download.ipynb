{
 "cells": [
  {
   "cell_type": "code",
   "execution_count": 1,
   "id": "c84aab0c",
   "metadata": {},
   "outputs": [],
   "source": [
    "# this solution is for single instance, multi-node processing!\n",
    "\n",
    "\n",
    "# !pip install warcio swifter html2text cchardet"
   ]
  },
  {
   "cell_type": "code",
   "execution_count": 2,
   "id": "68cf622a",
   "metadata": {},
   "outputs": [],
   "source": [
    "import pandas as pd\n",
    "import os\n",
    "import numpy as np\n",
    "import boto3\n",
    "from warcio.archiveiterator import ArchiveIterator\n",
    "import swifter\n",
    "import timeit\n",
    "import time\n",
    "from io import BytesIO\n",
    "from bs4 import BeautifulSoup, SoupStrainer\n",
    "import lxml\n",
    "import cchardet\n",
    "import numpy as np\n",
    "import botocore"
   ]
  },
  {
   "cell_type": "code",
   "execution_count": 3,
   "id": "dce61ca8",
   "metadata": {},
   "outputs": [],
   "source": [
    "covid_synonyms = [\"covid\", \"SARS‑CoV‑2\", \"corona pandemic\", \"corona\",  \"covid 19\" , \"covid-19\"\n",
    "                  , \"corona virus\", \"coronapandemie\", \"coronakrise\", \"SARS CoV 2\",\n",
    "                  \"Wuhan virus\", \"pandemie\", \"pandemic\", \"2019 nCoV\", \"pandémie\",\n",
    "                  \"pandemia\", \"Koronapandemie\", \"Korona\", \"Coronavirus\",\n",
    "                  \"Coronapandemie\", \"Wuhan-Virus\", \"pandémie corona\", \"Virus de Wuhan\", \"NCoV 2019\",\n",
    "                  \"pandemia de corona\", \"coronavirus\", \"coronapandemia\", \"cobiçado 19\"\n",
    "                  , \"coronavírus\", \"Vírus Wuhan\", \"电晕大流行\", \"电晕\", \"冠状病毒\", \"冠状流感\",\n",
    "                  \"日冕\", \"武汉病毒\", \"大流行\", \"大流行\", \"2019年nCoV\",\n",
    "                  \"大流行\", \"कोरोना महामारी\" , \"कोरोना\", \"कोविद १ ९\", \"कोरोना\", \"ओ और ndemie\",\n",
    "                  \"ओ nakrise\", \"वुहान वायरस\", \"ndemie\", \"महामारी\", \"コロナパンデミック\", \"コロナ\",\n",
    "                  \"コロナウイルス\", \"コロナパンデミ\", \"コロナクリス\", \"武漢ウイルス\", \"パンデミー\",\n",
    "                  \"パンデミック\", \"パンデミー\", \"パンデミック\", \"الاكليل\", \"جائحة الاكليل\",\n",
    "                  \"مطمع ۱۹\", \"الفيروس التاجي\", \"التاج\", \"السارس\", \"فيروس ووهان\",\n",
    "                  \"بانديمي\", \"جائحة\", \"ncov 2019\", \"2019 ncov\", \"пандемия короны\",\n",
    "                  \"корона\", \"Ковид 19\", \"коронавирус\", \"ш и ndemie\", \"о в nakrise\",\n",
    "                  \"Уханьский вирус\", \"ndemie\", \"пандемия\", \"2019 нКоВ\", \"ndemia\"]"
   ]
  },
  {
   "cell_type": "code",
   "execution_count": 4,
   "id": "d1a6fc53",
   "metadata": {},
   "outputs": [],
   "source": [
    "# df_reader = pd.read_csv('s3://cc-extract/top10subpages/2022/05/31/8f1d841c-8c64-4c84-85f8-e73c352e156f.csv', \n",
    "#                         chunksize=(os.cpu_count()-2)*10)"
   ]
  },
  {
   "cell_type": "code",
   "execution_count": 5,
   "id": "cf230a3d",
   "metadata": {
    "scrolled": false
   },
   "outputs": [],
   "source": [
    "# def fetch_process_warc_records(input):\n",
    "#     \"\"\"Fetch all WARC records defined by filenames and offsets in input,\n",
    "#     parse the records and the contained HTML, split the text into words\n",
    "#     and emit pairs <word, 1>\"\"\"\n",
    "#     times = {}\n",
    "    \n",
    "#     start = time.process_time()\n",
    "#     boto_config = botocore.config.Config(max_pool_connections=os.cpu_count())\n",
    "# #     boto_session = boto3.session.Session()\n",
    "# #     s3client = boto_session.client('s3', \n",
    "# #                                    region_name='us-east-1', \n",
    "# #                                    use_ssl=False, \n",
    "# #                                    config=boto_config\n",
    "# #                                   )\n",
    "#     s3client = boto3.client('s3', \n",
    "#                            region_name='us-east-1', \n",
    "#                            use_ssl=False, \n",
    "#                            config=boto_config\n",
    "#                            )\n",
    "#     times['boto_startup'] = time.process_time() - start\n",
    "     \n",
    "#     url, warc_path, offset, end = input.split('<;>')\n",
    "#     rangereq = 'bytes={}-{}'.format(offset, end)\n",
    "    \n",
    "#     start = time.process_time()\n",
    "#     response = s3client.get_object(Bucket='commoncrawl',\n",
    "#                                     Key=warc_path,\n",
    "#                                     Range=rangereq)\n",
    "#     times['s3_download'] = time.process_time() - start  \n",
    "    \n",
    "#     record_stream = BytesIO(response[\"Body\"].read())\n",
    "\n",
    "#     times['beautiful_soup_parsing'] = []\n",
    "#     times['covid_paragraphs'] = []\n",
    "#     covid_paragraphs = []\n",
    "#     only_paragraphs = SoupStrainer('p')\n",
    "#     for record in ArchiveIterator(record_stream):\n",
    "#         page = record.content_stream().read()\n",
    "\n",
    "#         start = time.process_time()\n",
    "#         soup = BeautifulSoup(page, 'lxml', parse_only=only_paragraphs)\n",
    "#         text = soup.get_text()\n",
    "#         times['beautiful_soup_parsing'].append(time.process_time() - start)\n",
    "\n",
    "#         start = time.process_time()         \n",
    "#         paragraphs = text.split('\\n')\n",
    "#         covid_paragraphs += [paragraph for paragraph in paragraphs if any(ext.casefold() in paragraph.casefold() for ext in covid_synonyms)]\n",
    "#         times['covid_paragraphs'].append(time.process_time() - start)\n",
    "\n",
    "#     times['beautiful_soup_parsing'] = np.mean(times['beautiful_soup_parsing'])\n",
    "#     times['covid_paragraphs'] = np.mean(times['covid_paragraphs'])\n",
    "    \n",
    "# #     print(f'Processing took {time.process_time() - start} seconds.')\n",
    "\n",
    "#     res = '\\n'.join(covid_paragraphs)\n",
    "        \n",
    "#     return {'res': res, 'times': times}"
   ]
  },
  {
   "cell_type": "code",
   "execution_count": 6,
   "id": "7e4e41a4",
   "metadata": {
    "scrolled": false
   },
   "outputs": [],
   "source": [
    "# start = time.process_time()\n",
    "# results = []\n",
    "# for df in df_reader:\n",
    "#     df['input'] = df.url + '<;>' + df.warc_filename + '<;>' + df.warc_record_offset.apply(str) + '<;>' + df.warc_record_end.apply(str)\n",
    "#     times = df.input.swifter.allow_dask_on_strings(enable=True).apply(lambda x: fetch_process_warc_records(x)['times'])\n",
    "#     break\n",
    "# print(time.process_time() - start)"
   ]
  },
  {
   "cell_type": "code",
   "execution_count": 7,
   "id": "1c86d7e7",
   "metadata": {
    "scrolled": true
   },
   "outputs": [],
   "source": [
    "# times = times.apply(pd.Series)\n",
    "# times.mean()"
   ]
  },
  {
   "cell_type": "code",
   "execution_count": 8,
   "id": "9c56601b",
   "metadata": {},
   "outputs": [],
   "source": [
    "def fetch_process_warc_records(batch):\n",
    "    \"\"\"Fetch all WARC records defined by filenames and offsets in batch,\n",
    "    parse the records and the contained HTML, split the text into words\n",
    "    and emit pairs <word, 1>\"\"\"\n",
    "    batch['input'] = batch.url + '<;>' + batch.warc_filename + '<;>' + batch.warc_record_offset.apply(str) + '<;>' + batch.warc_record_end.apply(str)\n",
    "    batch = batch.input.values\n",
    "    \n",
    "    s3client = boto3.client('s3', \n",
    "                           region_name='us-east-1', \n",
    "                           use_ssl=False\n",
    "                           )\n",
    "        \n",
    "    only_paragraphs = SoupStrainer('p')\n",
    "    \n",
    "    results = []\n",
    "    for x in batch:\n",
    "        url, warc_path, offset, end = x.split('<;>')\n",
    "        rangereq = 'bytes={}-{}'.format(offset, end)\n",
    "\n",
    "        response = s3client.get_object(Bucket='commoncrawl',\n",
    "                                        Key=warc_path,\n",
    "                                        Range=rangereq)\n",
    "\n",
    "        record_stream = BytesIO(response[\"Body\"].read())\n",
    "        \n",
    "        covid_paragraphs = []\n",
    "        for record in ArchiveIterator(record_stream):\n",
    "            page = record.content_stream().read()\n",
    "\n",
    "            soup = BeautifulSoup(page, 'lxml', parse_only=only_paragraphs)\n",
    "            text = soup.get_text()\n",
    "\n",
    "            paragraphs = text.split('\\n')\n",
    "            covid_paragraphs += [paragraph for paragraph in paragraphs if any(ext.casefold() in paragraph.casefold() for ext in covid_synonyms)]\n",
    "            \n",
    "        res = '\\n'.join(covid_paragraphs)\n",
    "        results.append(res)\n",
    "        \n",
    "    return results"
   ]
  },
  {
   "cell_type": "code",
   "execution_count": 9,
   "id": "f4822fc6",
   "metadata": {},
   "outputs": [],
   "source": [
    "df = pd.read_csv('s3://cc-extract/top10subpages/2022/05/31/8f1d841c-8c64-4c84-85f8-e73c352e156f.csv', nrows=1000)"
   ]
  },
  {
   "cell_type": "code",
   "execution_count": 10,
   "id": "47b4ee5b",
   "metadata": {},
   "outputs": [
    {
     "name": "stderr",
     "output_type": "stream",
     "text": [
      "/home/ec2-user/anaconda3/envs/pytorch_p36/lib/python3.6/site-packages/ipykernel/__main__.py:5: SettingWithCopyWarning: \n",
      "A value is trying to be set on a copy of a slice from a DataFrame.\n",
      "Try using .loc[row_indexer,col_indexer] = value instead\n",
      "\n",
      "See the caveats in the documentation: https://pandas.pydata.org/pandas-docs/stable/user_guide/indexing.html#returning-a-view-versus-a-copy\n",
      "/home/ec2-user/anaconda3/envs/pytorch_p36/lib/python3.6/site-packages/boto3/compat.py:88: PythonDeprecationWarning: Boto3 will no longer support Python 3.6 starting May 30, 2022. To continue receiving service updates, bug fixes, and security updates please upgrade to Python 3.7 or later. More information can be found here: https://aws.amazon.com/blogs/developer/python-support-policy-updates-for-aws-sdks-and-tools/\n",
      "  warnings.warn(warning, PythonDeprecationWarning)\n"
     ]
    },
    {
     "ename": "KeyError",
     "evalue": "'credential_provider'",
     "output_type": "error",
     "traceback": [
      "\u001B[0;31m---------------------------------------------------------------------------\u001B[0m",
      "\u001B[0;31mKeyError\u001B[0m                                  Traceback (most recent call last)",
      "\u001B[0;32m<ipython-input-10-228031dbef2e>\u001B[0m in \u001B[0;36m<module>\u001B[0;34m\u001B[0m\n\u001B[1;32m      8\u001B[0m \u001B[0;34m\u001B[0m\u001B[0m\n\u001B[1;32m      9\u001B[0m \u001B[0mresult\u001B[0m \u001B[0;34m=\u001B[0m \u001B[0mddf\u001B[0m\u001B[0;34m.\u001B[0m\u001B[0mmap_partitions\u001B[0m\u001B[0;34m(\u001B[0m\u001B[0mfetch_process_warc_records\u001B[0m\u001B[0;34m,\u001B[0m \u001B[0mmeta\u001B[0m\u001B[0;34m=\u001B[0m\u001B[0mlist\u001B[0m\u001B[0;34m)\u001B[0m\u001B[0;34m\u001B[0m\u001B[0;34m\u001B[0m\u001B[0m\n\u001B[0;32m---> 10\u001B[0;31m \u001B[0mresult\u001B[0m \u001B[0;34m=\u001B[0m \u001B[0mresult\u001B[0m\u001B[0;34m.\u001B[0m\u001B[0mcompute\u001B[0m\u001B[0;34m(\u001B[0m\u001B[0mnum_workers\u001B[0m\u001B[0;34m=\u001B[0m\u001B[0mos\u001B[0m\u001B[0;34m.\u001B[0m\u001B[0mcpu_count\u001B[0m\u001B[0;34m(\u001B[0m\u001B[0;34m)\u001B[0m\u001B[0;34m-\u001B[0m\u001B[0;36m2\u001B[0m\u001B[0;34m)\u001B[0m\u001B[0;34m\u001B[0m\u001B[0;34m\u001B[0m\u001B[0m\n\u001B[0m\u001B[1;32m     11\u001B[0m \u001B[0mprint\u001B[0m\u001B[0;34m(\u001B[0m\u001B[0mtime\u001B[0m\u001B[0;34m.\u001B[0m\u001B[0mprocess_time\u001B[0m\u001B[0;34m(\u001B[0m\u001B[0;34m)\u001B[0m \u001B[0;34m-\u001B[0m \u001B[0mstart\u001B[0m\u001B[0;34m)\u001B[0m\u001B[0;34m\u001B[0m\u001B[0;34m\u001B[0m\u001B[0m\n",
      "\u001B[0;32m~/anaconda3/envs/pytorch_p36/lib/python3.6/site-packages/dask/base.py\u001B[0m in \u001B[0;36mcompute\u001B[0;34m(self, **kwargs)\u001B[0m\n\u001B[1;32m    281\u001B[0m         \u001B[0mdask\u001B[0m\u001B[0;34m.\u001B[0m\u001B[0mbase\u001B[0m\u001B[0;34m.\u001B[0m\u001B[0mcompute\u001B[0m\u001B[0;34m\u001B[0m\u001B[0;34m\u001B[0m\u001B[0m\n\u001B[1;32m    282\u001B[0m         \"\"\"\n\u001B[0;32m--> 283\u001B[0;31m         \u001B[0;34m(\u001B[0m\u001B[0mresult\u001B[0m\u001B[0;34m,\u001B[0m\u001B[0;34m)\u001B[0m \u001B[0;34m=\u001B[0m \u001B[0mcompute\u001B[0m\u001B[0;34m(\u001B[0m\u001B[0mself\u001B[0m\u001B[0;34m,\u001B[0m \u001B[0mtraverse\u001B[0m\u001B[0;34m=\u001B[0m\u001B[0;32mFalse\u001B[0m\u001B[0;34m,\u001B[0m \u001B[0;34m**\u001B[0m\u001B[0mkwargs\u001B[0m\u001B[0;34m)\u001B[0m\u001B[0;34m\u001B[0m\u001B[0;34m\u001B[0m\u001B[0m\n\u001B[0m\u001B[1;32m    284\u001B[0m         \u001B[0;32mreturn\u001B[0m \u001B[0mresult\u001B[0m\u001B[0;34m\u001B[0m\u001B[0;34m\u001B[0m\u001B[0m\n\u001B[1;32m    285\u001B[0m \u001B[0;34m\u001B[0m\u001B[0m\n",
      "\u001B[0;32m~/anaconda3/envs/pytorch_p36/lib/python3.6/site-packages/dask/base.py\u001B[0m in \u001B[0;36mcompute\u001B[0;34m(*args, **kwargs)\u001B[0m\n\u001B[1;32m    563\u001B[0m         \u001B[0mpostcomputes\u001B[0m\u001B[0;34m.\u001B[0m\u001B[0mappend\u001B[0m\u001B[0;34m(\u001B[0m\u001B[0mx\u001B[0m\u001B[0;34m.\u001B[0m\u001B[0m__dask_postcompute__\u001B[0m\u001B[0;34m(\u001B[0m\u001B[0;34m)\u001B[0m\u001B[0;34m)\u001B[0m\u001B[0;34m\u001B[0m\u001B[0;34m\u001B[0m\u001B[0m\n\u001B[1;32m    564\u001B[0m \u001B[0;34m\u001B[0m\u001B[0m\n\u001B[0;32m--> 565\u001B[0;31m     \u001B[0mresults\u001B[0m \u001B[0;34m=\u001B[0m \u001B[0mschedule\u001B[0m\u001B[0;34m(\u001B[0m\u001B[0mdsk\u001B[0m\u001B[0;34m,\u001B[0m \u001B[0mkeys\u001B[0m\u001B[0;34m,\u001B[0m \u001B[0;34m**\u001B[0m\u001B[0mkwargs\u001B[0m\u001B[0;34m)\u001B[0m\u001B[0;34m\u001B[0m\u001B[0;34m\u001B[0m\u001B[0m\n\u001B[0m\u001B[1;32m    566\u001B[0m     \u001B[0;32mreturn\u001B[0m \u001B[0mrepack\u001B[0m\u001B[0;34m(\u001B[0m\u001B[0;34m[\u001B[0m\u001B[0mf\u001B[0m\u001B[0;34m(\u001B[0m\u001B[0mr\u001B[0m\u001B[0;34m,\u001B[0m \u001B[0;34m*\u001B[0m\u001B[0ma\u001B[0m\u001B[0;34m)\u001B[0m \u001B[0;32mfor\u001B[0m \u001B[0mr\u001B[0m\u001B[0;34m,\u001B[0m \u001B[0;34m(\u001B[0m\u001B[0mf\u001B[0m\u001B[0;34m,\u001B[0m \u001B[0ma\u001B[0m\u001B[0;34m)\u001B[0m \u001B[0;32min\u001B[0m \u001B[0mzip\u001B[0m\u001B[0;34m(\u001B[0m\u001B[0mresults\u001B[0m\u001B[0;34m,\u001B[0m \u001B[0mpostcomputes\u001B[0m\u001B[0;34m)\u001B[0m\u001B[0;34m]\u001B[0m\u001B[0;34m)\u001B[0m\u001B[0;34m\u001B[0m\u001B[0;34m\u001B[0m\u001B[0m\n\u001B[1;32m    567\u001B[0m \u001B[0;34m\u001B[0m\u001B[0m\n",
      "\u001B[0;32m~/anaconda3/envs/pytorch_p36/lib/python3.6/site-packages/dask/threaded.py\u001B[0m in \u001B[0;36mget\u001B[0;34m(dsk, result, cache, num_workers, pool, **kwargs)\u001B[0m\n\u001B[1;32m     82\u001B[0m         \u001B[0mget_id\u001B[0m\u001B[0;34m=\u001B[0m\u001B[0m_thread_get_id\u001B[0m\u001B[0;34m,\u001B[0m\u001B[0;34m\u001B[0m\u001B[0;34m\u001B[0m\u001B[0m\n\u001B[1;32m     83\u001B[0m         \u001B[0mpack_exception\u001B[0m\u001B[0;34m=\u001B[0m\u001B[0mpack_exception\u001B[0m\u001B[0;34m,\u001B[0m\u001B[0;34m\u001B[0m\u001B[0;34m\u001B[0m\u001B[0m\n\u001B[0;32m---> 84\u001B[0;31m         \u001B[0;34m**\u001B[0m\u001B[0mkwargs\u001B[0m\u001B[0;34m\u001B[0m\u001B[0;34m\u001B[0m\u001B[0m\n\u001B[0m\u001B[1;32m     85\u001B[0m     )\n\u001B[1;32m     86\u001B[0m \u001B[0;34m\u001B[0m\u001B[0m\n",
      "\u001B[0;32m~/anaconda3/envs/pytorch_p36/lib/python3.6/site-packages/dask/local.py\u001B[0m in \u001B[0;36mget_async\u001B[0;34m(apply_async, num_workers, dsk, result, cache, get_id, rerun_exceptions_locally, pack_exception, raise_exception, callbacks, dumps, loads, **kwargs)\u001B[0m\n\u001B[1;32m    485\u001B[0m                         \u001B[0m_execute_task\u001B[0m\u001B[0;34m(\u001B[0m\u001B[0mtask\u001B[0m\u001B[0;34m,\u001B[0m \u001B[0mdata\u001B[0m\u001B[0;34m)\u001B[0m  \u001B[0;31m# Re-execute locally\u001B[0m\u001B[0;34m\u001B[0m\u001B[0;34m\u001B[0m\u001B[0m\n\u001B[1;32m    486\u001B[0m                     \u001B[0;32melse\u001B[0m\u001B[0;34m:\u001B[0m\u001B[0;34m\u001B[0m\u001B[0;34m\u001B[0m\u001B[0m\n\u001B[0;32m--> 487\u001B[0;31m                         \u001B[0mraise_exception\u001B[0m\u001B[0;34m(\u001B[0m\u001B[0mexc\u001B[0m\u001B[0;34m,\u001B[0m \u001B[0mtb\u001B[0m\u001B[0;34m)\u001B[0m\u001B[0;34m\u001B[0m\u001B[0;34m\u001B[0m\u001B[0m\n\u001B[0m\u001B[1;32m    488\u001B[0m                 \u001B[0mres\u001B[0m\u001B[0;34m,\u001B[0m \u001B[0mworker_id\u001B[0m \u001B[0;34m=\u001B[0m \u001B[0mloads\u001B[0m\u001B[0;34m(\u001B[0m\u001B[0mres_info\u001B[0m\u001B[0;34m)\u001B[0m\u001B[0;34m\u001B[0m\u001B[0;34m\u001B[0m\u001B[0m\n\u001B[1;32m    489\u001B[0m                 \u001B[0mstate\u001B[0m\u001B[0;34m[\u001B[0m\u001B[0;34m\"cache\"\u001B[0m\u001B[0;34m]\u001B[0m\u001B[0;34m[\u001B[0m\u001B[0mkey\u001B[0m\u001B[0;34m]\u001B[0m \u001B[0;34m=\u001B[0m \u001B[0mres\u001B[0m\u001B[0;34m\u001B[0m\u001B[0;34m\u001B[0m\u001B[0m\n",
      "\u001B[0;32m~/anaconda3/envs/pytorch_p36/lib/python3.6/site-packages/dask/local.py\u001B[0m in \u001B[0;36mreraise\u001B[0;34m(exc, tb)\u001B[0m\n\u001B[1;32m    315\u001B[0m     \u001B[0;32mif\u001B[0m \u001B[0mexc\u001B[0m\u001B[0;34m.\u001B[0m\u001B[0m__traceback__\u001B[0m \u001B[0;32mis\u001B[0m \u001B[0;32mnot\u001B[0m \u001B[0mtb\u001B[0m\u001B[0;34m:\u001B[0m\u001B[0;34m\u001B[0m\u001B[0;34m\u001B[0m\u001B[0m\n\u001B[1;32m    316\u001B[0m         \u001B[0;32mraise\u001B[0m \u001B[0mexc\u001B[0m\u001B[0;34m.\u001B[0m\u001B[0mwith_traceback\u001B[0m\u001B[0;34m(\u001B[0m\u001B[0mtb\u001B[0m\u001B[0;34m)\u001B[0m\u001B[0;34m\u001B[0m\u001B[0;34m\u001B[0m\u001B[0m\n\u001B[0;32m--> 317\u001B[0;31m     \u001B[0;32mraise\u001B[0m \u001B[0mexc\u001B[0m\u001B[0;34m\u001B[0m\u001B[0;34m\u001B[0m\u001B[0m\n\u001B[0m\u001B[1;32m    318\u001B[0m \u001B[0;34m\u001B[0m\u001B[0m\n\u001B[1;32m    319\u001B[0m \u001B[0;34m\u001B[0m\u001B[0m\n",
      "\u001B[0;32m~/anaconda3/envs/pytorch_p36/lib/python3.6/site-packages/dask/local.py\u001B[0m in \u001B[0;36mexecute_task\u001B[0;34m(key, task_info, dumps, loads, get_id, pack_exception)\u001B[0m\n\u001B[1;32m    220\u001B[0m     \u001B[0;32mtry\u001B[0m\u001B[0;34m:\u001B[0m\u001B[0;34m\u001B[0m\u001B[0;34m\u001B[0m\u001B[0m\n\u001B[1;32m    221\u001B[0m         \u001B[0mtask\u001B[0m\u001B[0;34m,\u001B[0m \u001B[0mdata\u001B[0m \u001B[0;34m=\u001B[0m \u001B[0mloads\u001B[0m\u001B[0;34m(\u001B[0m\u001B[0mtask_info\u001B[0m\u001B[0;34m)\u001B[0m\u001B[0;34m\u001B[0m\u001B[0;34m\u001B[0m\u001B[0m\n\u001B[0;32m--> 222\u001B[0;31m         \u001B[0mresult\u001B[0m \u001B[0;34m=\u001B[0m \u001B[0m_execute_task\u001B[0m\u001B[0;34m(\u001B[0m\u001B[0mtask\u001B[0m\u001B[0;34m,\u001B[0m \u001B[0mdata\u001B[0m\u001B[0;34m)\u001B[0m\u001B[0;34m\u001B[0m\u001B[0;34m\u001B[0m\u001B[0m\n\u001B[0m\u001B[1;32m    223\u001B[0m         \u001B[0mid\u001B[0m \u001B[0;34m=\u001B[0m \u001B[0mget_id\u001B[0m\u001B[0;34m(\u001B[0m\u001B[0;34m)\u001B[0m\u001B[0;34m\u001B[0m\u001B[0;34m\u001B[0m\u001B[0m\n\u001B[1;32m    224\u001B[0m         \u001B[0mresult\u001B[0m \u001B[0;34m=\u001B[0m \u001B[0mdumps\u001B[0m\u001B[0;34m(\u001B[0m\u001B[0;34m(\u001B[0m\u001B[0mresult\u001B[0m\u001B[0;34m,\u001B[0m \u001B[0mid\u001B[0m\u001B[0;34m)\u001B[0m\u001B[0;34m)\u001B[0m\u001B[0;34m\u001B[0m\u001B[0;34m\u001B[0m\u001B[0m\n",
      "\u001B[0;32m~/anaconda3/envs/pytorch_p36/lib/python3.6/site-packages/dask/core.py\u001B[0m in \u001B[0;36m_execute_task\u001B[0;34m(arg, cache, dsk)\u001B[0m\n\u001B[1;32m    119\u001B[0m         \u001B[0;31m# temporaries by their reference count and can execute certain\u001B[0m\u001B[0;34m\u001B[0m\u001B[0;34m\u001B[0m\u001B[0;34m\u001B[0m\u001B[0m\n\u001B[1;32m    120\u001B[0m         \u001B[0;31m# operations in-place.\u001B[0m\u001B[0;34m\u001B[0m\u001B[0;34m\u001B[0m\u001B[0;34m\u001B[0m\u001B[0m\n\u001B[0;32m--> 121\u001B[0;31m         \u001B[0;32mreturn\u001B[0m \u001B[0mfunc\u001B[0m\u001B[0;34m(\u001B[0m\u001B[0;34m*\u001B[0m\u001B[0;34m(\u001B[0m\u001B[0m_execute_task\u001B[0m\u001B[0;34m(\u001B[0m\u001B[0ma\u001B[0m\u001B[0;34m,\u001B[0m \u001B[0mcache\u001B[0m\u001B[0;34m)\u001B[0m \u001B[0;32mfor\u001B[0m \u001B[0ma\u001B[0m \u001B[0;32min\u001B[0m \u001B[0margs\u001B[0m\u001B[0;34m)\u001B[0m\u001B[0;34m)\u001B[0m\u001B[0;34m\u001B[0m\u001B[0;34m\u001B[0m\u001B[0m\n\u001B[0m\u001B[1;32m    122\u001B[0m     \u001B[0;32melif\u001B[0m \u001B[0;32mnot\u001B[0m \u001B[0mishashable\u001B[0m\u001B[0;34m(\u001B[0m\u001B[0marg\u001B[0m\u001B[0;34m)\u001B[0m\u001B[0;34m:\u001B[0m\u001B[0;34m\u001B[0m\u001B[0;34m\u001B[0m\u001B[0m\n\u001B[1;32m    123\u001B[0m         \u001B[0;32mreturn\u001B[0m \u001B[0marg\u001B[0m\u001B[0;34m\u001B[0m\u001B[0;34m\u001B[0m\u001B[0m\n",
      "\u001B[0;32m~/anaconda3/envs/pytorch_p36/lib/python3.6/site-packages/dask/optimization.py\u001B[0m in \u001B[0;36m__call__\u001B[0;34m(self, *args)\u001B[0m\n\u001B[1;32m    961\u001B[0m         \u001B[0;32mif\u001B[0m \u001B[0;32mnot\u001B[0m \u001B[0mlen\u001B[0m\u001B[0;34m(\u001B[0m\u001B[0margs\u001B[0m\u001B[0;34m)\u001B[0m \u001B[0;34m==\u001B[0m \u001B[0mlen\u001B[0m\u001B[0;34m(\u001B[0m\u001B[0mself\u001B[0m\u001B[0;34m.\u001B[0m\u001B[0minkeys\u001B[0m\u001B[0;34m)\u001B[0m\u001B[0;34m:\u001B[0m\u001B[0;34m\u001B[0m\u001B[0;34m\u001B[0m\u001B[0m\n\u001B[1;32m    962\u001B[0m             \u001B[0;32mraise\u001B[0m \u001B[0mValueError\u001B[0m\u001B[0;34m(\u001B[0m\u001B[0;34m\"Expected %d args, got %d\"\u001B[0m \u001B[0;34m%\u001B[0m \u001B[0;34m(\u001B[0m\u001B[0mlen\u001B[0m\u001B[0;34m(\u001B[0m\u001B[0mself\u001B[0m\u001B[0;34m.\u001B[0m\u001B[0minkeys\u001B[0m\u001B[0;34m)\u001B[0m\u001B[0;34m,\u001B[0m \u001B[0mlen\u001B[0m\u001B[0;34m(\u001B[0m\u001B[0margs\u001B[0m\u001B[0;34m)\u001B[0m\u001B[0;34m)\u001B[0m\u001B[0;34m)\u001B[0m\u001B[0;34m\u001B[0m\u001B[0;34m\u001B[0m\u001B[0m\n\u001B[0;32m--> 963\u001B[0;31m         \u001B[0;32mreturn\u001B[0m \u001B[0mcore\u001B[0m\u001B[0;34m.\u001B[0m\u001B[0mget\u001B[0m\u001B[0;34m(\u001B[0m\u001B[0mself\u001B[0m\u001B[0;34m.\u001B[0m\u001B[0mdsk\u001B[0m\u001B[0;34m,\u001B[0m \u001B[0mself\u001B[0m\u001B[0;34m.\u001B[0m\u001B[0moutkey\u001B[0m\u001B[0;34m,\u001B[0m \u001B[0mdict\u001B[0m\u001B[0;34m(\u001B[0m\u001B[0mzip\u001B[0m\u001B[0;34m(\u001B[0m\u001B[0mself\u001B[0m\u001B[0;34m.\u001B[0m\u001B[0minkeys\u001B[0m\u001B[0;34m,\u001B[0m \u001B[0margs\u001B[0m\u001B[0;34m)\u001B[0m\u001B[0;34m)\u001B[0m\u001B[0;34m)\u001B[0m\u001B[0;34m\u001B[0m\u001B[0;34m\u001B[0m\u001B[0m\n\u001B[0m\u001B[1;32m    964\u001B[0m \u001B[0;34m\u001B[0m\u001B[0m\n\u001B[1;32m    965\u001B[0m     \u001B[0;32mdef\u001B[0m \u001B[0m__reduce__\u001B[0m\u001B[0;34m(\u001B[0m\u001B[0mself\u001B[0m\u001B[0;34m)\u001B[0m\u001B[0;34m:\u001B[0m\u001B[0;34m\u001B[0m\u001B[0;34m\u001B[0m\u001B[0m\n",
      "\u001B[0;32m~/anaconda3/envs/pytorch_p36/lib/python3.6/site-packages/dask/core.py\u001B[0m in \u001B[0;36mget\u001B[0;34m(dsk, out, cache)\u001B[0m\n\u001B[1;32m    149\u001B[0m     \u001B[0;32mfor\u001B[0m \u001B[0mkey\u001B[0m \u001B[0;32min\u001B[0m \u001B[0mtoposort\u001B[0m\u001B[0;34m(\u001B[0m\u001B[0mdsk\u001B[0m\u001B[0;34m)\u001B[0m\u001B[0;34m:\u001B[0m\u001B[0;34m\u001B[0m\u001B[0;34m\u001B[0m\u001B[0m\n\u001B[1;32m    150\u001B[0m         \u001B[0mtask\u001B[0m \u001B[0;34m=\u001B[0m \u001B[0mdsk\u001B[0m\u001B[0;34m[\u001B[0m\u001B[0mkey\u001B[0m\u001B[0;34m]\u001B[0m\u001B[0;34m\u001B[0m\u001B[0;34m\u001B[0m\u001B[0m\n\u001B[0;32m--> 151\u001B[0;31m         \u001B[0mresult\u001B[0m \u001B[0;34m=\u001B[0m \u001B[0m_execute_task\u001B[0m\u001B[0;34m(\u001B[0m\u001B[0mtask\u001B[0m\u001B[0;34m,\u001B[0m \u001B[0mcache\u001B[0m\u001B[0;34m)\u001B[0m\u001B[0;34m\u001B[0m\u001B[0;34m\u001B[0m\u001B[0m\n\u001B[0m\u001B[1;32m    152\u001B[0m         \u001B[0mcache\u001B[0m\u001B[0;34m[\u001B[0m\u001B[0mkey\u001B[0m\u001B[0;34m]\u001B[0m \u001B[0;34m=\u001B[0m \u001B[0mresult\u001B[0m\u001B[0;34m\u001B[0m\u001B[0;34m\u001B[0m\u001B[0m\n\u001B[1;32m    153\u001B[0m     \u001B[0mresult\u001B[0m \u001B[0;34m=\u001B[0m \u001B[0m_execute_task\u001B[0m\u001B[0;34m(\u001B[0m\u001B[0mout\u001B[0m\u001B[0;34m,\u001B[0m \u001B[0mcache\u001B[0m\u001B[0;34m)\u001B[0m\u001B[0;34m\u001B[0m\u001B[0;34m\u001B[0m\u001B[0m\n",
      "\u001B[0;32m~/anaconda3/envs/pytorch_p36/lib/python3.6/site-packages/dask/core.py\u001B[0m in \u001B[0;36m_execute_task\u001B[0;34m(arg, cache, dsk)\u001B[0m\n\u001B[1;32m    119\u001B[0m         \u001B[0;31m# temporaries by their reference count and can execute certain\u001B[0m\u001B[0;34m\u001B[0m\u001B[0;34m\u001B[0m\u001B[0;34m\u001B[0m\u001B[0m\n\u001B[1;32m    120\u001B[0m         \u001B[0;31m# operations in-place.\u001B[0m\u001B[0;34m\u001B[0m\u001B[0;34m\u001B[0m\u001B[0;34m\u001B[0m\u001B[0m\n\u001B[0;32m--> 121\u001B[0;31m         \u001B[0;32mreturn\u001B[0m \u001B[0mfunc\u001B[0m\u001B[0;34m(\u001B[0m\u001B[0;34m*\u001B[0m\u001B[0;34m(\u001B[0m\u001B[0m_execute_task\u001B[0m\u001B[0;34m(\u001B[0m\u001B[0ma\u001B[0m\u001B[0;34m,\u001B[0m \u001B[0mcache\u001B[0m\u001B[0;34m)\u001B[0m \u001B[0;32mfor\u001B[0m \u001B[0ma\u001B[0m \u001B[0;32min\u001B[0m \u001B[0margs\u001B[0m\u001B[0;34m)\u001B[0m\u001B[0;34m)\u001B[0m\u001B[0;34m\u001B[0m\u001B[0;34m\u001B[0m\u001B[0m\n\u001B[0m\u001B[1;32m    122\u001B[0m     \u001B[0;32melif\u001B[0m \u001B[0;32mnot\u001B[0m \u001B[0mishashable\u001B[0m\u001B[0;34m(\u001B[0m\u001B[0marg\u001B[0m\u001B[0;34m)\u001B[0m\u001B[0;34m:\u001B[0m\u001B[0;34m\u001B[0m\u001B[0;34m\u001B[0m\u001B[0m\n\u001B[1;32m    123\u001B[0m         \u001B[0;32mreturn\u001B[0m \u001B[0marg\u001B[0m\u001B[0;34m\u001B[0m\u001B[0;34m\u001B[0m\u001B[0m\n",
      "\u001B[0;32m~/anaconda3/envs/pytorch_p36/lib/python3.6/site-packages/dask/utils.py\u001B[0m in \u001B[0;36mapply\u001B[0;34m(func, args, kwargs)\u001B[0m\n\u001B[1;32m     33\u001B[0m \u001B[0;32mdef\u001B[0m \u001B[0mapply\u001B[0m\u001B[0;34m(\u001B[0m\u001B[0mfunc\u001B[0m\u001B[0;34m,\u001B[0m \u001B[0margs\u001B[0m\u001B[0;34m,\u001B[0m \u001B[0mkwargs\u001B[0m\u001B[0;34m=\u001B[0m\u001B[0;32mNone\u001B[0m\u001B[0;34m)\u001B[0m\u001B[0;34m:\u001B[0m\u001B[0;34m\u001B[0m\u001B[0;34m\u001B[0m\u001B[0m\n\u001B[1;32m     34\u001B[0m     \u001B[0;32mif\u001B[0m \u001B[0mkwargs\u001B[0m\u001B[0;34m:\u001B[0m\u001B[0;34m\u001B[0m\u001B[0;34m\u001B[0m\u001B[0m\n\u001B[0;32m---> 35\u001B[0;31m         \u001B[0;32mreturn\u001B[0m \u001B[0mfunc\u001B[0m\u001B[0;34m(\u001B[0m\u001B[0;34m*\u001B[0m\u001B[0margs\u001B[0m\u001B[0;34m,\u001B[0m \u001B[0;34m**\u001B[0m\u001B[0mkwargs\u001B[0m\u001B[0;34m)\u001B[0m\u001B[0;34m\u001B[0m\u001B[0;34m\u001B[0m\u001B[0m\n\u001B[0m\u001B[1;32m     36\u001B[0m     \u001B[0;32melse\u001B[0m\u001B[0;34m:\u001B[0m\u001B[0;34m\u001B[0m\u001B[0;34m\u001B[0m\u001B[0m\n\u001B[1;32m     37\u001B[0m         \u001B[0;32mreturn\u001B[0m \u001B[0mfunc\u001B[0m\u001B[0;34m(\u001B[0m\u001B[0;34m*\u001B[0m\u001B[0margs\u001B[0m\u001B[0;34m)\u001B[0m\u001B[0;34m\u001B[0m\u001B[0;34m\u001B[0m\u001B[0m\n",
      "\u001B[0;32m~/anaconda3/envs/pytorch_p36/lib/python3.6/site-packages/dask/dataframe/core.py\u001B[0m in \u001B[0;36mapply_and_enforce\u001B[0;34m(*args, **kwargs)\u001B[0m\n\u001B[1;32m   5485\u001B[0m     \u001B[0mfunc\u001B[0m \u001B[0;34m=\u001B[0m \u001B[0mkwargs\u001B[0m\u001B[0;34m.\u001B[0m\u001B[0mpop\u001B[0m\u001B[0;34m(\u001B[0m\u001B[0;34m\"_func\"\u001B[0m\u001B[0;34m)\u001B[0m\u001B[0;34m\u001B[0m\u001B[0;34m\u001B[0m\u001B[0m\n\u001B[1;32m   5486\u001B[0m     \u001B[0mmeta\u001B[0m \u001B[0;34m=\u001B[0m \u001B[0mkwargs\u001B[0m\u001B[0;34m.\u001B[0m\u001B[0mpop\u001B[0m\u001B[0;34m(\u001B[0m\u001B[0;34m\"_meta\"\u001B[0m\u001B[0;34m)\u001B[0m\u001B[0;34m\u001B[0m\u001B[0;34m\u001B[0m\u001B[0m\n\u001B[0;32m-> 5487\u001B[0;31m     \u001B[0mdf\u001B[0m \u001B[0;34m=\u001B[0m \u001B[0mfunc\u001B[0m\u001B[0;34m(\u001B[0m\u001B[0;34m*\u001B[0m\u001B[0margs\u001B[0m\u001B[0;34m,\u001B[0m \u001B[0;34m**\u001B[0m\u001B[0mkwargs\u001B[0m\u001B[0;34m)\u001B[0m\u001B[0;34m\u001B[0m\u001B[0;34m\u001B[0m\u001B[0m\n\u001B[0m\u001B[1;32m   5488\u001B[0m     \u001B[0;32mif\u001B[0m \u001B[0mis_dataframe_like\u001B[0m\u001B[0;34m(\u001B[0m\u001B[0mdf\u001B[0m\u001B[0;34m)\u001B[0m \u001B[0;32mor\u001B[0m \u001B[0mis_series_like\u001B[0m\u001B[0;34m(\u001B[0m\u001B[0mdf\u001B[0m\u001B[0;34m)\u001B[0m \u001B[0;32mor\u001B[0m \u001B[0mis_index_like\u001B[0m\u001B[0;34m(\u001B[0m\u001B[0mdf\u001B[0m\u001B[0;34m)\u001B[0m\u001B[0;34m:\u001B[0m\u001B[0;34m\u001B[0m\u001B[0;34m\u001B[0m\u001B[0m\n\u001B[1;32m   5489\u001B[0m         \u001B[0;32mif\u001B[0m \u001B[0;32mnot\u001B[0m \u001B[0mlen\u001B[0m\u001B[0;34m(\u001B[0m\u001B[0mdf\u001B[0m\u001B[0;34m)\u001B[0m\u001B[0;34m:\u001B[0m\u001B[0;34m\u001B[0m\u001B[0;34m\u001B[0m\u001B[0m\n",
      "\u001B[0;32m<ipython-input-8-a79c5c0219e4>\u001B[0m in \u001B[0;36mfetch_process_warc_records\u001B[0;34m(batch)\u001B[0m\n\u001B[1;32m     11\u001B[0m                            \u001B[0mregion_name\u001B[0m\u001B[0;34m=\u001B[0m\u001B[0;34m'us-east-1'\u001B[0m\u001B[0;34m,\u001B[0m\u001B[0;34m\u001B[0m\u001B[0;34m\u001B[0m\u001B[0m\n\u001B[1;32m     12\u001B[0m                            \u001B[0muse_ssl\u001B[0m\u001B[0;34m=\u001B[0m\u001B[0;32mFalse\u001B[0m\u001B[0;34m,\u001B[0m\u001B[0;34m\u001B[0m\u001B[0;34m\u001B[0m\u001B[0m\n\u001B[0;32m---> 13\u001B[0;31m                            \u001B[0mconfig\u001B[0m\u001B[0;34m=\u001B[0m\u001B[0mboto_config\u001B[0m\u001B[0;34m\u001B[0m\u001B[0;34m\u001B[0m\u001B[0m\n\u001B[0m\u001B[1;32m     14\u001B[0m                            )\n\u001B[1;32m     15\u001B[0m \u001B[0;34m\u001B[0m\u001B[0m\n",
      "\u001B[0;32m~/anaconda3/envs/pytorch_p36/lib/python3.6/site-packages/boto3/__init__.py\u001B[0m in \u001B[0;36mclient\u001B[0;34m(*args, **kwargs)\u001B[0m\n\u001B[1;32m     90\u001B[0m     \u001B[0mSee\u001B[0m \u001B[0;34m:\u001B[0m\u001B[0mpy\u001B[0m\u001B[0;34m:\u001B[0m\u001B[0mmeth\u001B[0m\u001B[0;34m:\u001B[0m\u001B[0;31m`\u001B[0m\u001B[0mboto3\u001B[0m\u001B[0;34m.\u001B[0m\u001B[0msession\u001B[0m\u001B[0;34m.\u001B[0m\u001B[0mSession\u001B[0m\u001B[0;34m.\u001B[0m\u001B[0mclient\u001B[0m\u001B[0;31m`\u001B[0m\u001B[0;34m.\u001B[0m\u001B[0;34m\u001B[0m\u001B[0;34m\u001B[0m\u001B[0m\n\u001B[1;32m     91\u001B[0m     \"\"\"\n\u001B[0;32m---> 92\u001B[0;31m     \u001B[0;32mreturn\u001B[0m \u001B[0m_get_default_session\u001B[0m\u001B[0;34m(\u001B[0m\u001B[0;34m)\u001B[0m\u001B[0;34m.\u001B[0m\u001B[0mclient\u001B[0m\u001B[0;34m(\u001B[0m\u001B[0;34m*\u001B[0m\u001B[0margs\u001B[0m\u001B[0;34m,\u001B[0m \u001B[0;34m**\u001B[0m\u001B[0mkwargs\u001B[0m\u001B[0;34m)\u001B[0m\u001B[0;34m\u001B[0m\u001B[0;34m\u001B[0m\u001B[0m\n\u001B[0m\u001B[1;32m     93\u001B[0m \u001B[0;34m\u001B[0m\u001B[0m\n\u001B[1;32m     94\u001B[0m \u001B[0;34m\u001B[0m\u001B[0m\n",
      "\u001B[0;32m~/anaconda3/envs/pytorch_p36/lib/python3.6/site-packages/boto3/session.py\u001B[0m in \u001B[0;36mclient\u001B[0;34m(self, service_name, region_name, api_version, use_ssl, verify, endpoint_url, aws_access_key_id, aws_secret_access_key, aws_session_token, config)\u001B[0m\n\u001B[1;32m    307\u001B[0m             \u001B[0maws_secret_access_key\u001B[0m\u001B[0;34m=\u001B[0m\u001B[0maws_secret_access_key\u001B[0m\u001B[0;34m,\u001B[0m\u001B[0;34m\u001B[0m\u001B[0;34m\u001B[0m\u001B[0m\n\u001B[1;32m    308\u001B[0m             \u001B[0maws_session_token\u001B[0m\u001B[0;34m=\u001B[0m\u001B[0maws_session_token\u001B[0m\u001B[0;34m,\u001B[0m\u001B[0;34m\u001B[0m\u001B[0;34m\u001B[0m\u001B[0m\n\u001B[0;32m--> 309\u001B[0;31m             \u001B[0mconfig\u001B[0m\u001B[0;34m=\u001B[0m\u001B[0mconfig\u001B[0m\u001B[0;34m,\u001B[0m\u001B[0;34m\u001B[0m\u001B[0;34m\u001B[0m\u001B[0m\n\u001B[0m\u001B[1;32m    310\u001B[0m         )\n\u001B[1;32m    311\u001B[0m \u001B[0;34m\u001B[0m\u001B[0m\n",
      "\u001B[0;32m~/anaconda3/envs/pytorch_p36/lib/python3.6/site-packages/botocore/session.py\u001B[0m in \u001B[0;36mcreate_client\u001B[0;34m(self, service_name, region_name, api_version, use_ssl, verify, endpoint_url, aws_access_key_id, aws_secret_access_key, aws_session_token, config)\u001B[0m\n\u001B[1;32m    867\u001B[0m                                                  aws_secret_access_key))\n\u001B[1;32m    868\u001B[0m         \u001B[0;32melse\u001B[0m\u001B[0;34m:\u001B[0m\u001B[0;34m\u001B[0m\u001B[0;34m\u001B[0m\u001B[0m\n\u001B[0;32m--> 869\u001B[0;31m             \u001B[0mcredentials\u001B[0m \u001B[0;34m=\u001B[0m \u001B[0mself\u001B[0m\u001B[0;34m.\u001B[0m\u001B[0mget_credentials\u001B[0m\u001B[0;34m(\u001B[0m\u001B[0;34m)\u001B[0m\u001B[0;34m\u001B[0m\u001B[0;34m\u001B[0m\u001B[0m\n\u001B[0m\u001B[1;32m    870\u001B[0m         \u001B[0mendpoint_resolver\u001B[0m \u001B[0;34m=\u001B[0m \u001B[0mself\u001B[0m\u001B[0;34m.\u001B[0m\u001B[0m_get_internal_component\u001B[0m\u001B[0;34m(\u001B[0m\u001B[0;34m'endpoint_resolver'\u001B[0m\u001B[0;34m)\u001B[0m\u001B[0;34m\u001B[0m\u001B[0;34m\u001B[0m\u001B[0m\n\u001B[1;32m    871\u001B[0m         \u001B[0mexceptions_factory\u001B[0m \u001B[0;34m=\u001B[0m \u001B[0mself\u001B[0m\u001B[0;34m.\u001B[0m\u001B[0m_get_internal_component\u001B[0m\u001B[0;34m(\u001B[0m\u001B[0;34m'exceptions_factory'\u001B[0m\u001B[0;34m)\u001B[0m\u001B[0;34m\u001B[0m\u001B[0;34m\u001B[0m\u001B[0m\n",
      "\u001B[0;32m~/anaconda3/envs/pytorch_p36/lib/python3.6/site-packages/botocore/session.py\u001B[0m in \u001B[0;36mget_credentials\u001B[0;34m(self)\u001B[0m\n\u001B[1;32m    470\u001B[0m         \u001B[0;32mif\u001B[0m \u001B[0mself\u001B[0m\u001B[0;34m.\u001B[0m\u001B[0m_credentials\u001B[0m \u001B[0;32mis\u001B[0m \u001B[0;32mNone\u001B[0m\u001B[0;34m:\u001B[0m\u001B[0;34m\u001B[0m\u001B[0;34m\u001B[0m\u001B[0m\n\u001B[1;32m    471\u001B[0m             self._credentials = self._components.get_component(\n\u001B[0;32m--> 472\u001B[0;31m                 'credential_provider').load_credentials()\n\u001B[0m\u001B[1;32m    473\u001B[0m         \u001B[0;32mreturn\u001B[0m \u001B[0mself\u001B[0m\u001B[0;34m.\u001B[0m\u001B[0m_credentials\u001B[0m\u001B[0;34m\u001B[0m\u001B[0;34m\u001B[0m\u001B[0m\n\u001B[1;32m    474\u001B[0m \u001B[0;34m\u001B[0m\u001B[0m\n",
      "\u001B[0;32m~/anaconda3/envs/pytorch_p36/lib/python3.6/site-packages/botocore/session.py\u001B[0m in \u001B[0;36mget_component\u001B[0;34m(self, name)\u001B[0m\n\u001B[1;32m   1007\u001B[0m             \u001B[0;31m# successfully creating the object from the factory as well as\u001B[0m\u001B[0;34m\u001B[0m\u001B[0;34m\u001B[0m\u001B[0;34m\u001B[0m\u001B[0m\n\u001B[1;32m   1008\u001B[0m             \u001B[0;31m# injecting the instantiated value into the _components dict.\u001B[0m\u001B[0;34m\u001B[0m\u001B[0;34m\u001B[0m\u001B[0;34m\u001B[0m\u001B[0m\n\u001B[0;32m-> 1009\u001B[0;31m             \u001B[0;32mdel\u001B[0m \u001B[0mself\u001B[0m\u001B[0;34m.\u001B[0m\u001B[0m_deferred\u001B[0m\u001B[0;34m[\u001B[0m\u001B[0mname\u001B[0m\u001B[0;34m]\u001B[0m\u001B[0;34m\u001B[0m\u001B[0;34m\u001B[0m\u001B[0m\n\u001B[0m\u001B[1;32m   1010\u001B[0m         \u001B[0;32mtry\u001B[0m\u001B[0;34m:\u001B[0m\u001B[0;34m\u001B[0m\u001B[0;34m\u001B[0m\u001B[0m\n\u001B[1;32m   1011\u001B[0m             \u001B[0;32mreturn\u001B[0m \u001B[0mself\u001B[0m\u001B[0;34m.\u001B[0m\u001B[0m_components\u001B[0m\u001B[0;34m[\u001B[0m\u001B[0mname\u001B[0m\u001B[0;34m]\u001B[0m\u001B[0;34m\u001B[0m\u001B[0;34m\u001B[0m\u001B[0m\n",
      "\u001B[0;31mKeyError\u001B[0m: 'credential_provider'"
     ]
    }
   ],
   "source": [
    "import dask.dataframe as dd\n",
    "\n",
    "start = time.process_time()\n",
    "# Load the data with Dask instead of Pandas.\n",
    "# ddf = dd.read_csv('s3://cc-extract/top10subpages/2022/05/31/8f1d841c-8c64-4c84-85f8-e73c352e156f.csv', \n",
    "#                   blocksize='64MB')\n",
    "ddf = dd.from_pandas(df, npartitions=os.cpu_count()-2)\n",
    "\n",
    "result = ddf.map_partitions(fetch_process_warc_records, meta=list)\n",
    "result = result.compute(num_workers=os.cpu_count()-2)\n",
    "print(time.process_time() - start)"
   ]
  }
 ],
 "metadata": {
  "kernelspec": {
   "display_name": "conda_pytorch_p36",
   "language": "python",
   "name": "conda_pytorch_p36"
  },
  "language_info": {
   "codemirror_mode": {
    "name": "ipython",
    "version": 3
   },
   "file_extension": ".py",
   "mimetype": "text/x-python",
   "name": "python",
   "nbconvert_exporter": "python",
   "pygments_lexer": "ipython3",
   "version": "3.6.13"
  }
 },
 "nbformat": 4,
 "nbformat_minor": 5
}